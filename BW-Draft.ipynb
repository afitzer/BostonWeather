{
 "cells": [
  {
   "cell_type": "code",
   "execution_count": 1,
   "metadata": {},
   "outputs": [],
   "source": [
    "import pandas as pd"
   ]
  },
  {
   "cell_type": "code",
   "execution_count": 2,
   "metadata": {},
   "outputs": [],
   "source": [
    "import plotly.express as px"
   ]
  },
  {
   "cell_type": "code",
   "execution_count": 3,
   "metadata": {},
   "outputs": [],
   "source": [
    "pd.set_option('display.max_columns', None)\n",
    "pd.set_option('display.max_rows', None)"
   ]
  },
  {
   "cell_type": "code",
   "execution_count": 4,
   "metadata": {},
   "outputs": [],
   "source": [
    "df = pd.read_csv('Boston weather_clean.csv')"
   ]
  },
  {
   "cell_type": "code",
   "execution_count": 5,
   "metadata": {},
   "outputs": [
    {
     "data": {
      "text/html": [
       "<div>\n",
       "<style scoped>\n",
       "    .dataframe tbody tr th:only-of-type {\n",
       "        vertical-align: middle;\n",
       "    }\n",
       "\n",
       "    .dataframe tbody tr th {\n",
       "        vertical-align: top;\n",
       "    }\n",
       "\n",
       "    .dataframe thead th {\n",
       "        text-align: right;\n",
       "    }\n",
       "</style>\n",
       "<table border=\"1\" class=\"dataframe\">\n",
       "  <thead>\n",
       "    <tr style=\"text-align: right;\">\n",
       "      <th></th>\n",
       "      <th>Year</th>\n",
       "      <th>Month</th>\n",
       "      <th>Day</th>\n",
       "      <th>High Temp (F)</th>\n",
       "      <th>Avg Temp (F)</th>\n",
       "      <th>Low Temp (F)</th>\n",
       "      <th>High Dew Point (F)</th>\n",
       "      <th>Avg Dew Point (F)</th>\n",
       "      <th>Low Dew Point (F)</th>\n",
       "      <th>High Humidity (%)</th>\n",
       "      <th>Avg Humidity (%)</th>\n",
       "      <th>Low Humidity (%)</th>\n",
       "      <th>High Sea Level Press (in)</th>\n",
       "      <th>Avg Sea Level Press (in)</th>\n",
       "      <th>Low Sea Level Press (in)</th>\n",
       "      <th>High Visibility (mi)</th>\n",
       "      <th>Avg Visibility (mi)</th>\n",
       "      <th>Low Visibility (mi)</th>\n",
       "      <th>High Wind (mph)</th>\n",
       "      <th>Avg Wind (mph)</th>\n",
       "      <th>High Wind Gust (mph)</th>\n",
       "      <th>Snowfall (in)</th>\n",
       "      <th>Precip (in)</th>\n",
       "      <th>Events</th>\n",
       "    </tr>\n",
       "  </thead>\n",
       "  <tbody>\n",
       "    <tr>\n",
       "      <th>0</th>\n",
       "      <td>2008</td>\n",
       "      <td>1</td>\n",
       "      <td>1</td>\n",
       "      <td>40</td>\n",
       "      <td>34</td>\n",
       "      <td>28</td>\n",
       "      <td>37</td>\n",
       "      <td>31</td>\n",
       "      <td>22</td>\n",
       "      <td>92</td>\n",
       "      <td>79</td>\n",
       "      <td>66</td>\n",
       "      <td>30.18</td>\n",
       "      <td>29.78</td>\n",
       "      <td>29.56</td>\n",
       "      <td>10</td>\n",
       "      <td>8</td>\n",
       "      <td>1</td>\n",
       "      <td>23</td>\n",
       "      <td>10</td>\n",
       "      <td>36</td>\n",
       "      <td>0.18</td>\n",
       "      <td>0.18</td>\n",
       "      <td>Both</td>\n",
       "    </tr>\n",
       "    <tr>\n",
       "      <th>1</th>\n",
       "      <td>2008</td>\n",
       "      <td>1</td>\n",
       "      <td>2</td>\n",
       "      <td>33</td>\n",
       "      <td>22</td>\n",
       "      <td>10</td>\n",
       "      <td>28</td>\n",
       "      <td>18</td>\n",
       "      <td>-3</td>\n",
       "      <td>82</td>\n",
       "      <td>66</td>\n",
       "      <td>49</td>\n",
       "      <td>30.20</td>\n",
       "      <td>29.79</td>\n",
       "      <td>29.55</td>\n",
       "      <td>10</td>\n",
       "      <td>10</td>\n",
       "      <td>9</td>\n",
       "      <td>28</td>\n",
       "      <td>15</td>\n",
       "      <td>38</td>\n",
       "      <td>0.00</td>\n",
       "      <td>0.00</td>\n",
       "      <td>Snow</td>\n",
       "    </tr>\n",
       "    <tr>\n",
       "      <th>2</th>\n",
       "      <td>2008</td>\n",
       "      <td>1</td>\n",
       "      <td>3</td>\n",
       "      <td>14</td>\n",
       "      <td>11</td>\n",
       "      <td>7</td>\n",
       "      <td>-3</td>\n",
       "      <td>-7</td>\n",
       "      <td>-9</td>\n",
       "      <td>60</td>\n",
       "      <td>50</td>\n",
       "      <td>40</td>\n",
       "      <td>30.62</td>\n",
       "      <td>30.47</td>\n",
       "      <td>30.22</td>\n",
       "      <td>10</td>\n",
       "      <td>10</td>\n",
       "      <td>10</td>\n",
       "      <td>25</td>\n",
       "      <td>17</td>\n",
       "      <td>32</td>\n",
       "      <td>0.00</td>\n",
       "      <td>0.00</td>\n",
       "      <td>None</td>\n",
       "    </tr>\n",
       "    <tr>\n",
       "      <th>3</th>\n",
       "      <td>2008</td>\n",
       "      <td>1</td>\n",
       "      <td>4</td>\n",
       "      <td>32</td>\n",
       "      <td>20</td>\n",
       "      <td>8</td>\n",
       "      <td>13</td>\n",
       "      <td>5</td>\n",
       "      <td>-8</td>\n",
       "      <td>63</td>\n",
       "      <td>50</td>\n",
       "      <td>36</td>\n",
       "      <td>30.60</td>\n",
       "      <td>30.45</td>\n",
       "      <td>30.37</td>\n",
       "      <td>10</td>\n",
       "      <td>10</td>\n",
       "      <td>10</td>\n",
       "      <td>23</td>\n",
       "      <td>12</td>\n",
       "      <td>28</td>\n",
       "      <td>0.00</td>\n",
       "      <td>0.00</td>\n",
       "      <td>None</td>\n",
       "    </tr>\n",
       "    <tr>\n",
       "      <th>4</th>\n",
       "      <td>2008</td>\n",
       "      <td>1</td>\n",
       "      <td>5</td>\n",
       "      <td>42</td>\n",
       "      <td>35</td>\n",
       "      <td>27</td>\n",
       "      <td>26</td>\n",
       "      <td>16</td>\n",
       "      <td>12</td>\n",
       "      <td>64</td>\n",
       "      <td>47</td>\n",
       "      <td>30</td>\n",
       "      <td>30.38</td>\n",
       "      <td>30.30</td>\n",
       "      <td>30.17</td>\n",
       "      <td>10</td>\n",
       "      <td>10</td>\n",
       "      <td>10</td>\n",
       "      <td>16</td>\n",
       "      <td>9</td>\n",
       "      <td>23</td>\n",
       "      <td>0.00</td>\n",
       "      <td>0.00</td>\n",
       "      <td>None</td>\n",
       "    </tr>\n",
       "  </tbody>\n",
       "</table>\n",
       "</div>"
      ],
      "text/plain": [
       "   Year  Month  Day  High Temp (F)  Avg Temp (F)  Low Temp (F)  \\\n",
       "0  2008      1    1             40            34            28   \n",
       "1  2008      1    2             33            22            10   \n",
       "2  2008      1    3             14            11             7   \n",
       "3  2008      1    4             32            20             8   \n",
       "4  2008      1    5             42            35            27   \n",
       "\n",
       "   High Dew Point (F)  Avg Dew Point (F)  Low Dew Point (F)  \\\n",
       "0                  37                 31                 22   \n",
       "1                  28                 18                 -3   \n",
       "2                  -3                 -7                 -9   \n",
       "3                  13                  5                 -8   \n",
       "4                  26                 16                 12   \n",
       "\n",
       "   High Humidity (%)  Avg Humidity (%)  Low Humidity (%)  \\\n",
       "0                 92                79                66   \n",
       "1                 82                66                49   \n",
       "2                 60                50                40   \n",
       "3                 63                50                36   \n",
       "4                 64                47                30   \n",
       "\n",
       "   High Sea Level Press (in)  Avg Sea Level Press (in)  \\\n",
       "0                      30.18                     29.78   \n",
       "1                      30.20                     29.79   \n",
       "2                      30.62                     30.47   \n",
       "3                      30.60                     30.45   \n",
       "4                      30.38                     30.30   \n",
       "\n",
       "   Low Sea Level Press (in)  High Visibility (mi)  Avg Visibility (mi)  \\\n",
       "0                     29.56                    10                    8   \n",
       "1                     29.55                    10                   10   \n",
       "2                     30.22                    10                   10   \n",
       "3                     30.37                    10                   10   \n",
       "4                     30.17                    10                   10   \n",
       "\n",
       "   Low Visibility (mi)  High Wind (mph)  Avg Wind (mph)  High Wind Gust (mph)  \\\n",
       "0                    1               23              10                    36   \n",
       "1                    9               28              15                    38   \n",
       "2                   10               25              17                    32   \n",
       "3                   10               23              12                    28   \n",
       "4                   10               16               9                    23   \n",
       "\n",
       "   Snowfall (in)  Precip (in) Events  \n",
       "0           0.18         0.18   Both  \n",
       "1           0.00         0.00   Snow  \n",
       "2           0.00         0.00   None  \n",
       "3           0.00         0.00   None  \n",
       "4           0.00         0.00   None  "
      ]
     },
     "execution_count": 5,
     "metadata": {},
     "output_type": "execute_result"
    }
   ],
   "source": [
    "df.head()"
   ]
  },
  {
   "cell_type": "code",
   "execution_count": 6,
   "metadata": {},
   "outputs": [
    {
     "name": "stdout",
     "output_type": "stream",
     "text": [
      "<class 'pandas.core.frame.DataFrame'>\n",
      "RangeIndex: 3749 entries, 0 to 3748\n",
      "Data columns (total 24 columns):\n",
      " #   Column                     Non-Null Count  Dtype  \n",
      "---  ------                     --------------  -----  \n",
      " 0   Year                       3749 non-null   int64  \n",
      " 1   Month                      3749 non-null   int64  \n",
      " 2   Day                        3749 non-null   int64  \n",
      " 3   High Temp (F)              3749 non-null   int64  \n",
      " 4   Avg Temp (F)               3749 non-null   int64  \n",
      " 5   Low Temp (F)               3749 non-null   int64  \n",
      " 6   High Dew Point (F)         3749 non-null   int64  \n",
      " 7   Avg Dew Point (F)          3749 non-null   int64  \n",
      " 8   Low Dew Point (F)          3749 non-null   int64  \n",
      " 9   High Humidity (%)          3749 non-null   int64  \n",
      " 10  Avg Humidity (%)           3749 non-null   int64  \n",
      " 11  Low Humidity (%)           3749 non-null   int64  \n",
      " 12  High Sea Level Press (in)  3749 non-null   float64\n",
      " 13  Avg Sea Level Press (in)   3749 non-null   float64\n",
      " 14  Low Sea Level Press (in)   3749 non-null   float64\n",
      " 15  High Visibility (mi)       3749 non-null   int64  \n",
      " 16  Avg Visibility (mi)        3749 non-null   int64  \n",
      " 17  Low Visibility (mi)        3749 non-null   int64  \n",
      " 18  High Wind (mph)            3749 non-null   int64  \n",
      " 19  Avg Wind (mph)             3749 non-null   int64  \n",
      " 20  High Wind Gust (mph)       3749 non-null   int64  \n",
      " 21  Snowfall (in)              3749 non-null   float64\n",
      " 22  Precip (in)                3749 non-null   float64\n",
      " 23  Events                     3749 non-null   object \n",
      "dtypes: float64(5), int64(18), object(1)\n",
      "memory usage: 703.1+ KB\n"
     ]
    }
   ],
   "source": [
    "df.info()"
   ]
  },
  {
   "cell_type": "code",
   "execution_count": 7,
   "metadata": {},
   "outputs": [
    {
     "data": {
      "text/html": [
       "<div>\n",
       "<style scoped>\n",
       "    .dataframe tbody tr th:only-of-type {\n",
       "        vertical-align: middle;\n",
       "    }\n",
       "\n",
       "    .dataframe tbody tr th {\n",
       "        vertical-align: top;\n",
       "    }\n",
       "\n",
       "    .dataframe thead th {\n",
       "        text-align: right;\n",
       "    }\n",
       "</style>\n",
       "<table border=\"1\" class=\"dataframe\">\n",
       "  <thead>\n",
       "    <tr style=\"text-align: right;\">\n",
       "      <th></th>\n",
       "      <th>Year</th>\n",
       "      <th>Month</th>\n",
       "      <th>Day</th>\n",
       "      <th>High Temp (F)</th>\n",
       "      <th>Avg Temp (F)</th>\n",
       "      <th>Low Temp (F)</th>\n",
       "      <th>High Dew Point (F)</th>\n",
       "      <th>Avg Dew Point (F)</th>\n",
       "      <th>Low Dew Point (F)</th>\n",
       "      <th>High Humidity (%)</th>\n",
       "      <th>Avg Humidity (%)</th>\n",
       "      <th>Low Humidity (%)</th>\n",
       "      <th>High Sea Level Press (in)</th>\n",
       "      <th>Avg Sea Level Press (in)</th>\n",
       "      <th>Low Sea Level Press (in)</th>\n",
       "      <th>High Visibility (mi)</th>\n",
       "      <th>Avg Visibility (mi)</th>\n",
       "      <th>Low Visibility (mi)</th>\n",
       "      <th>High Wind (mph)</th>\n",
       "      <th>Avg Wind (mph)</th>\n",
       "      <th>High Wind Gust (mph)</th>\n",
       "      <th>Snowfall (in)</th>\n",
       "      <th>Precip (in)</th>\n",
       "    </tr>\n",
       "  </thead>\n",
       "  <tbody>\n",
       "    <tr>\n",
       "      <th>count</th>\n",
       "      <td>3749.000000</td>\n",
       "      <td>3749.000000</td>\n",
       "      <td>3749.000000</td>\n",
       "      <td>3749.000000</td>\n",
       "      <td>3749.000000</td>\n",
       "      <td>3749.000000</td>\n",
       "      <td>3749.000000</td>\n",
       "      <td>3749.000000</td>\n",
       "      <td>3749.000000</td>\n",
       "      <td>3749.000000</td>\n",
       "      <td>3749.000000</td>\n",
       "      <td>3749.000000</td>\n",
       "      <td>3749.000000</td>\n",
       "      <td>3749.000000</td>\n",
       "      <td>3749.000000</td>\n",
       "      <td>3749.000000</td>\n",
       "      <td>3749.000000</td>\n",
       "      <td>3749.000000</td>\n",
       "      <td>3749.000000</td>\n",
       "      <td>3749.000000</td>\n",
       "      <td>3749.00000</td>\n",
       "      <td>3749.000000</td>\n",
       "      <td>3749.000000</td>\n",
       "    </tr>\n",
       "    <tr>\n",
       "      <th>mean</th>\n",
       "      <td>2012.640437</td>\n",
       "      <td>6.410243</td>\n",
       "      <td>15.699653</td>\n",
       "      <td>59.537477</td>\n",
       "      <td>52.370766</td>\n",
       "      <td>44.706055</td>\n",
       "      <td>45.703654</td>\n",
       "      <td>39.735663</td>\n",
       "      <td>33.337690</td>\n",
       "      <td>82.402774</td>\n",
       "      <td>65.575087</td>\n",
       "      <td>48.215524</td>\n",
       "      <td>30.110493</td>\n",
       "      <td>29.992563</td>\n",
       "      <td>29.878501</td>\n",
       "      <td>9.962123</td>\n",
       "      <td>8.839157</td>\n",
       "      <td>6.601494</td>\n",
       "      <td>20.872766</td>\n",
       "      <td>10.835956</td>\n",
       "      <td>27.12510</td>\n",
       "      <td>0.024879</td>\n",
       "      <td>0.109923</td>\n",
       "    </tr>\n",
       "    <tr>\n",
       "      <th>std</th>\n",
       "      <td>2.966161</td>\n",
       "      <td>3.477825</td>\n",
       "      <td>8.807769</td>\n",
       "      <td>18.352603</td>\n",
       "      <td>17.361271</td>\n",
       "      <td>16.835002</td>\n",
       "      <td>17.590199</td>\n",
       "      <td>18.614174</td>\n",
       "      <td>19.897473</td>\n",
       "      <td>14.376956</td>\n",
       "      <td>14.793492</td>\n",
       "      <td>17.819487</td>\n",
       "      <td>0.227329</td>\n",
       "      <td>0.240443</td>\n",
       "      <td>0.258179</td>\n",
       "      <td>0.466778</td>\n",
       "      <td>2.010247</td>\n",
       "      <td>3.986926</td>\n",
       "      <td>6.226606</td>\n",
       "      <td>3.839917</td>\n",
       "      <td>9.14353</td>\n",
       "      <td>0.137465</td>\n",
       "      <td>0.305100</td>\n",
       "    </tr>\n",
       "    <tr>\n",
       "      <th>min</th>\n",
       "      <td>2008.000000</td>\n",
       "      <td>1.000000</td>\n",
       "      <td>1.000000</td>\n",
       "      <td>12.000000</td>\n",
       "      <td>2.000000</td>\n",
       "      <td>-9.000000</td>\n",
       "      <td>-13.000000</td>\n",
       "      <td>-18.000000</td>\n",
       "      <td>-25.000000</td>\n",
       "      <td>31.000000</td>\n",
       "      <td>21.000000</td>\n",
       "      <td>10.000000</td>\n",
       "      <td>29.200000</td>\n",
       "      <td>28.970000</td>\n",
       "      <td>28.720000</td>\n",
       "      <td>0.000000</td>\n",
       "      <td>0.000000</td>\n",
       "      <td>0.000000</td>\n",
       "      <td>6.000000</td>\n",
       "      <td>2.000000</td>\n",
       "      <td>0.00000</td>\n",
       "      <td>0.000000</td>\n",
       "      <td>0.000000</td>\n",
       "    </tr>\n",
       "    <tr>\n",
       "      <th>25%</th>\n",
       "      <td>2010.000000</td>\n",
       "      <td>3.000000</td>\n",
       "      <td>8.000000</td>\n",
       "      <td>44.000000</td>\n",
       "      <td>39.000000</td>\n",
       "      <td>32.000000</td>\n",
       "      <td>33.000000</td>\n",
       "      <td>26.000000</td>\n",
       "      <td>19.000000</td>\n",
       "      <td>72.000000</td>\n",
       "      <td>55.000000</td>\n",
       "      <td>34.000000</td>\n",
       "      <td>29.960000</td>\n",
       "      <td>29.840000</td>\n",
       "      <td>29.730000</td>\n",
       "      <td>10.000000</td>\n",
       "      <td>8.000000</td>\n",
       "      <td>2.000000</td>\n",
       "      <td>16.000000</td>\n",
       "      <td>8.000000</td>\n",
       "      <td>21.00000</td>\n",
       "      <td>0.000000</td>\n",
       "      <td>0.000000</td>\n",
       "    </tr>\n",
       "    <tr>\n",
       "      <th>50%</th>\n",
       "      <td>2013.000000</td>\n",
       "      <td>6.000000</td>\n",
       "      <td>16.000000</td>\n",
       "      <td>60.000000</td>\n",
       "      <td>53.000000</td>\n",
       "      <td>45.000000</td>\n",
       "      <td>47.000000</td>\n",
       "      <td>41.000000</td>\n",
       "      <td>35.000000</td>\n",
       "      <td>86.000000</td>\n",
       "      <td>65.000000</td>\n",
       "      <td>45.000000</td>\n",
       "      <td>30.100000</td>\n",
       "      <td>29.990000</td>\n",
       "      <td>29.890000</td>\n",
       "      <td>10.000000</td>\n",
       "      <td>10.000000</td>\n",
       "      <td>9.000000</td>\n",
       "      <td>20.000000</td>\n",
       "      <td>10.000000</td>\n",
       "      <td>26.00000</td>\n",
       "      <td>0.000000</td>\n",
       "      <td>0.000000</td>\n",
       "    </tr>\n",
       "    <tr>\n",
       "      <th>75%</th>\n",
       "      <td>2015.000000</td>\n",
       "      <td>9.000000</td>\n",
       "      <td>23.000000</td>\n",
       "      <td>75.000000</td>\n",
       "      <td>67.000000</td>\n",
       "      <td>59.000000</td>\n",
       "      <td>61.000000</td>\n",
       "      <td>55.000000</td>\n",
       "      <td>50.000000</td>\n",
       "      <td>93.000000</td>\n",
       "      <td>76.000000</td>\n",
       "      <td>60.000000</td>\n",
       "      <td>30.260000</td>\n",
       "      <td>30.150000</td>\n",
       "      <td>30.050000</td>\n",
       "      <td>10.000000</td>\n",
       "      <td>10.000000</td>\n",
       "      <td>10.000000</td>\n",
       "      <td>24.000000</td>\n",
       "      <td>13.000000</td>\n",
       "      <td>32.00000</td>\n",
       "      <td>0.000000</td>\n",
       "      <td>0.030000</td>\n",
       "    </tr>\n",
       "    <tr>\n",
       "      <th>max</th>\n",
       "      <td>2018.000000</td>\n",
       "      <td>12.000000</td>\n",
       "      <td>31.000000</td>\n",
       "      <td>103.000000</td>\n",
       "      <td>92.000000</td>\n",
       "      <td>81.000000</td>\n",
       "      <td>78.000000</td>\n",
       "      <td>74.000000</td>\n",
       "      <td>70.000000</td>\n",
       "      <td>100.000000</td>\n",
       "      <td>100.000000</td>\n",
       "      <td>100.000000</td>\n",
       "      <td>30.880000</td>\n",
       "      <td>30.770000</td>\n",
       "      <td>30.640000</td>\n",
       "      <td>15.000000</td>\n",
       "      <td>10.000000</td>\n",
       "      <td>10.000000</td>\n",
       "      <td>53.000000</td>\n",
       "      <td>38.000000</td>\n",
       "      <td>124.00000</td>\n",
       "      <td>2.660000</td>\n",
       "      <td>3.400000</td>\n",
       "    </tr>\n",
       "  </tbody>\n",
       "</table>\n",
       "</div>"
      ],
      "text/plain": [
       "              Year        Month          Day  High Temp (F)  Avg Temp (F)  \\\n",
       "count  3749.000000  3749.000000  3749.000000    3749.000000   3749.000000   \n",
       "mean   2012.640437     6.410243    15.699653      59.537477     52.370766   \n",
       "std       2.966161     3.477825     8.807769      18.352603     17.361271   \n",
       "min    2008.000000     1.000000     1.000000      12.000000      2.000000   \n",
       "25%    2010.000000     3.000000     8.000000      44.000000     39.000000   \n",
       "50%    2013.000000     6.000000    16.000000      60.000000     53.000000   \n",
       "75%    2015.000000     9.000000    23.000000      75.000000     67.000000   \n",
       "max    2018.000000    12.000000    31.000000     103.000000     92.000000   \n",
       "\n",
       "       Low Temp (F)  High Dew Point (F)  Avg Dew Point (F)  Low Dew Point (F)  \\\n",
       "count   3749.000000         3749.000000        3749.000000        3749.000000   \n",
       "mean      44.706055           45.703654          39.735663          33.337690   \n",
       "std       16.835002           17.590199          18.614174          19.897473   \n",
       "min       -9.000000          -13.000000         -18.000000         -25.000000   \n",
       "25%       32.000000           33.000000          26.000000          19.000000   \n",
       "50%       45.000000           47.000000          41.000000          35.000000   \n",
       "75%       59.000000           61.000000          55.000000          50.000000   \n",
       "max       81.000000           78.000000          74.000000          70.000000   \n",
       "\n",
       "       High Humidity (%)  Avg Humidity (%)  Low Humidity (%)  \\\n",
       "count        3749.000000       3749.000000       3749.000000   \n",
       "mean           82.402774         65.575087         48.215524   \n",
       "std            14.376956         14.793492         17.819487   \n",
       "min            31.000000         21.000000         10.000000   \n",
       "25%            72.000000         55.000000         34.000000   \n",
       "50%            86.000000         65.000000         45.000000   \n",
       "75%            93.000000         76.000000         60.000000   \n",
       "max           100.000000        100.000000        100.000000   \n",
       "\n",
       "       High Sea Level Press (in)  Avg Sea Level Press (in)  \\\n",
       "count                3749.000000               3749.000000   \n",
       "mean                   30.110493                 29.992563   \n",
       "std                     0.227329                  0.240443   \n",
       "min                    29.200000                 28.970000   \n",
       "25%                    29.960000                 29.840000   \n",
       "50%                    30.100000                 29.990000   \n",
       "75%                    30.260000                 30.150000   \n",
       "max                    30.880000                 30.770000   \n",
       "\n",
       "       Low Sea Level Press (in)  High Visibility (mi)  Avg Visibility (mi)  \\\n",
       "count               3749.000000           3749.000000          3749.000000   \n",
       "mean                  29.878501              9.962123             8.839157   \n",
       "std                    0.258179              0.466778             2.010247   \n",
       "min                   28.720000              0.000000             0.000000   \n",
       "25%                   29.730000             10.000000             8.000000   \n",
       "50%                   29.890000             10.000000            10.000000   \n",
       "75%                   30.050000             10.000000            10.000000   \n",
       "max                   30.640000             15.000000            10.000000   \n",
       "\n",
       "       Low Visibility (mi)  High Wind (mph)  Avg Wind (mph)  \\\n",
       "count          3749.000000      3749.000000     3749.000000   \n",
       "mean              6.601494        20.872766       10.835956   \n",
       "std               3.986926         6.226606        3.839917   \n",
       "min               0.000000         6.000000        2.000000   \n",
       "25%               2.000000        16.000000        8.000000   \n",
       "50%               9.000000        20.000000       10.000000   \n",
       "75%              10.000000        24.000000       13.000000   \n",
       "max              10.000000        53.000000       38.000000   \n",
       "\n",
       "       High Wind Gust (mph)  Snowfall (in)  Precip (in)  \n",
       "count            3749.00000    3749.000000  3749.000000  \n",
       "mean               27.12510       0.024879     0.109923  \n",
       "std                 9.14353       0.137465     0.305100  \n",
       "min                 0.00000       0.000000     0.000000  \n",
       "25%                21.00000       0.000000     0.000000  \n",
       "50%                26.00000       0.000000     0.000000  \n",
       "75%                32.00000       0.000000     0.030000  \n",
       "max               124.00000       2.660000     3.400000  "
      ]
     },
     "execution_count": 7,
     "metadata": {},
     "output_type": "execute_result"
    }
   ],
   "source": [
    "df.describe()"
   ]
  },
  {
   "cell_type": "code",
   "execution_count": 10,
   "metadata": {},
   "outputs": [],
   "source": [
    "yearly = df.groupby('Year').agg(YearlyTemp = ('Avg Temp (F)', 'mean'))"
   ]
  },
  {
   "cell_type": "code",
   "execution_count": 12,
   "metadata": {},
   "outputs": [
    {
     "data": {
      "application/vnd.plotly.v1+json": {
       "config": {
        "plotlyServerURL": "https://plot.ly"
       },
       "data": [
        {
         "hovertemplate": "Year=%{x}<br>YearlyTemp=%{y}<extra></extra>",
         "legendgroup": "",
         "line": {
          "color": "#636efa",
          "dash": "solid"
         },
         "marker": {
          "symbol": "circle"
         },
         "mode": "lines",
         "name": "",
         "orientation": "v",
         "showlegend": false,
         "type": "scatter",
         "x": [
          2008,
          2009,
          2010,
          2011,
          2012,
          2013,
          2014,
          2015,
          2016,
          2017,
          2018
         ],
         "xaxis": "x",
         "y": [
          52.322404371584696,
          51.12054794520548,
          54.12602739726027,
          53.68767123287671,
          54.49180327868852,
          52.397260273972606,
          51.463013698630135,
          52.04109589041096,
          53.67486338797814,
          52.89041095890411,
          35.197916666666664
         ],
         "yaxis": "y"
        }
       ],
       "layout": {
        "legend": {
         "tracegroupgap": 0
        },
        "template": {
         "data": {
          "bar": [
           {
            "error_x": {
             "color": "#2a3f5f"
            },
            "error_y": {
             "color": "#2a3f5f"
            },
            "marker": {
             "line": {
              "color": "#E5ECF6",
              "width": 0.5
             },
             "pattern": {
              "fillmode": "overlay",
              "size": 10,
              "solidity": 0.2
             }
            },
            "type": "bar"
           }
          ],
          "barpolar": [
           {
            "marker": {
             "line": {
              "color": "#E5ECF6",
              "width": 0.5
             },
             "pattern": {
              "fillmode": "overlay",
              "size": 10,
              "solidity": 0.2
             }
            },
            "type": "barpolar"
           }
          ],
          "carpet": [
           {
            "aaxis": {
             "endlinecolor": "#2a3f5f",
             "gridcolor": "white",
             "linecolor": "white",
             "minorgridcolor": "white",
             "startlinecolor": "#2a3f5f"
            },
            "baxis": {
             "endlinecolor": "#2a3f5f",
             "gridcolor": "white",
             "linecolor": "white",
             "minorgridcolor": "white",
             "startlinecolor": "#2a3f5f"
            },
            "type": "carpet"
           }
          ],
          "choropleth": [
           {
            "colorbar": {
             "outlinewidth": 0,
             "ticks": ""
            },
            "type": "choropleth"
           }
          ],
          "contour": [
           {
            "colorbar": {
             "outlinewidth": 0,
             "ticks": ""
            },
            "colorscale": [
             [
              0,
              "#0d0887"
             ],
             [
              0.1111111111111111,
              "#46039f"
             ],
             [
              0.2222222222222222,
              "#7201a8"
             ],
             [
              0.3333333333333333,
              "#9c179e"
             ],
             [
              0.4444444444444444,
              "#bd3786"
             ],
             [
              0.5555555555555556,
              "#d8576b"
             ],
             [
              0.6666666666666666,
              "#ed7953"
             ],
             [
              0.7777777777777778,
              "#fb9f3a"
             ],
             [
              0.8888888888888888,
              "#fdca26"
             ],
             [
              1,
              "#f0f921"
             ]
            ],
            "type": "contour"
           }
          ],
          "contourcarpet": [
           {
            "colorbar": {
             "outlinewidth": 0,
             "ticks": ""
            },
            "type": "contourcarpet"
           }
          ],
          "heatmap": [
           {
            "colorbar": {
             "outlinewidth": 0,
             "ticks": ""
            },
            "colorscale": [
             [
              0,
              "#0d0887"
             ],
             [
              0.1111111111111111,
              "#46039f"
             ],
             [
              0.2222222222222222,
              "#7201a8"
             ],
             [
              0.3333333333333333,
              "#9c179e"
             ],
             [
              0.4444444444444444,
              "#bd3786"
             ],
             [
              0.5555555555555556,
              "#d8576b"
             ],
             [
              0.6666666666666666,
              "#ed7953"
             ],
             [
              0.7777777777777778,
              "#fb9f3a"
             ],
             [
              0.8888888888888888,
              "#fdca26"
             ],
             [
              1,
              "#f0f921"
             ]
            ],
            "type": "heatmap"
           }
          ],
          "heatmapgl": [
           {
            "colorbar": {
             "outlinewidth": 0,
             "ticks": ""
            },
            "colorscale": [
             [
              0,
              "#0d0887"
             ],
             [
              0.1111111111111111,
              "#46039f"
             ],
             [
              0.2222222222222222,
              "#7201a8"
             ],
             [
              0.3333333333333333,
              "#9c179e"
             ],
             [
              0.4444444444444444,
              "#bd3786"
             ],
             [
              0.5555555555555556,
              "#d8576b"
             ],
             [
              0.6666666666666666,
              "#ed7953"
             ],
             [
              0.7777777777777778,
              "#fb9f3a"
             ],
             [
              0.8888888888888888,
              "#fdca26"
             ],
             [
              1,
              "#f0f921"
             ]
            ],
            "type": "heatmapgl"
           }
          ],
          "histogram": [
           {
            "marker": {
             "pattern": {
              "fillmode": "overlay",
              "size": 10,
              "solidity": 0.2
             }
            },
            "type": "histogram"
           }
          ],
          "histogram2d": [
           {
            "colorbar": {
             "outlinewidth": 0,
             "ticks": ""
            },
            "colorscale": [
             [
              0,
              "#0d0887"
             ],
             [
              0.1111111111111111,
              "#46039f"
             ],
             [
              0.2222222222222222,
              "#7201a8"
             ],
             [
              0.3333333333333333,
              "#9c179e"
             ],
             [
              0.4444444444444444,
              "#bd3786"
             ],
             [
              0.5555555555555556,
              "#d8576b"
             ],
             [
              0.6666666666666666,
              "#ed7953"
             ],
             [
              0.7777777777777778,
              "#fb9f3a"
             ],
             [
              0.8888888888888888,
              "#fdca26"
             ],
             [
              1,
              "#f0f921"
             ]
            ],
            "type": "histogram2d"
           }
          ],
          "histogram2dcontour": [
           {
            "colorbar": {
             "outlinewidth": 0,
             "ticks": ""
            },
            "colorscale": [
             [
              0,
              "#0d0887"
             ],
             [
              0.1111111111111111,
              "#46039f"
             ],
             [
              0.2222222222222222,
              "#7201a8"
             ],
             [
              0.3333333333333333,
              "#9c179e"
             ],
             [
              0.4444444444444444,
              "#bd3786"
             ],
             [
              0.5555555555555556,
              "#d8576b"
             ],
             [
              0.6666666666666666,
              "#ed7953"
             ],
             [
              0.7777777777777778,
              "#fb9f3a"
             ],
             [
              0.8888888888888888,
              "#fdca26"
             ],
             [
              1,
              "#f0f921"
             ]
            ],
            "type": "histogram2dcontour"
           }
          ],
          "mesh3d": [
           {
            "colorbar": {
             "outlinewidth": 0,
             "ticks": ""
            },
            "type": "mesh3d"
           }
          ],
          "parcoords": [
           {
            "line": {
             "colorbar": {
              "outlinewidth": 0,
              "ticks": ""
             }
            },
            "type": "parcoords"
           }
          ],
          "pie": [
           {
            "automargin": true,
            "type": "pie"
           }
          ],
          "scatter": [
           {
            "fillpattern": {
             "fillmode": "overlay",
             "size": 10,
             "solidity": 0.2
            },
            "type": "scatter"
           }
          ],
          "scatter3d": [
           {
            "line": {
             "colorbar": {
              "outlinewidth": 0,
              "ticks": ""
             }
            },
            "marker": {
             "colorbar": {
              "outlinewidth": 0,
              "ticks": ""
             }
            },
            "type": "scatter3d"
           }
          ],
          "scattercarpet": [
           {
            "marker": {
             "colorbar": {
              "outlinewidth": 0,
              "ticks": ""
             }
            },
            "type": "scattercarpet"
           }
          ],
          "scattergeo": [
           {
            "marker": {
             "colorbar": {
              "outlinewidth": 0,
              "ticks": ""
             }
            },
            "type": "scattergeo"
           }
          ],
          "scattergl": [
           {
            "marker": {
             "colorbar": {
              "outlinewidth": 0,
              "ticks": ""
             }
            },
            "type": "scattergl"
           }
          ],
          "scattermapbox": [
           {
            "marker": {
             "colorbar": {
              "outlinewidth": 0,
              "ticks": ""
             }
            },
            "type": "scattermapbox"
           }
          ],
          "scatterpolar": [
           {
            "marker": {
             "colorbar": {
              "outlinewidth": 0,
              "ticks": ""
             }
            },
            "type": "scatterpolar"
           }
          ],
          "scatterpolargl": [
           {
            "marker": {
             "colorbar": {
              "outlinewidth": 0,
              "ticks": ""
             }
            },
            "type": "scatterpolargl"
           }
          ],
          "scatterternary": [
           {
            "marker": {
             "colorbar": {
              "outlinewidth": 0,
              "ticks": ""
             }
            },
            "type": "scatterternary"
           }
          ],
          "surface": [
           {
            "colorbar": {
             "outlinewidth": 0,
             "ticks": ""
            },
            "colorscale": [
             [
              0,
              "#0d0887"
             ],
             [
              0.1111111111111111,
              "#46039f"
             ],
             [
              0.2222222222222222,
              "#7201a8"
             ],
             [
              0.3333333333333333,
              "#9c179e"
             ],
             [
              0.4444444444444444,
              "#bd3786"
             ],
             [
              0.5555555555555556,
              "#d8576b"
             ],
             [
              0.6666666666666666,
              "#ed7953"
             ],
             [
              0.7777777777777778,
              "#fb9f3a"
             ],
             [
              0.8888888888888888,
              "#fdca26"
             ],
             [
              1,
              "#f0f921"
             ]
            ],
            "type": "surface"
           }
          ],
          "table": [
           {
            "cells": {
             "fill": {
              "color": "#EBF0F8"
             },
             "line": {
              "color": "white"
             }
            },
            "header": {
             "fill": {
              "color": "#C8D4E3"
             },
             "line": {
              "color": "white"
             }
            },
            "type": "table"
           }
          ]
         },
         "layout": {
          "annotationdefaults": {
           "arrowcolor": "#2a3f5f",
           "arrowhead": 0,
           "arrowwidth": 1
          },
          "autotypenumbers": "strict",
          "coloraxis": {
           "colorbar": {
            "outlinewidth": 0,
            "ticks": ""
           }
          },
          "colorscale": {
           "diverging": [
            [
             0,
             "#8e0152"
            ],
            [
             0.1,
             "#c51b7d"
            ],
            [
             0.2,
             "#de77ae"
            ],
            [
             0.3,
             "#f1b6da"
            ],
            [
             0.4,
             "#fde0ef"
            ],
            [
             0.5,
             "#f7f7f7"
            ],
            [
             0.6,
             "#e6f5d0"
            ],
            [
             0.7,
             "#b8e186"
            ],
            [
             0.8,
             "#7fbc41"
            ],
            [
             0.9,
             "#4d9221"
            ],
            [
             1,
             "#276419"
            ]
           ],
           "sequential": [
            [
             0,
             "#0d0887"
            ],
            [
             0.1111111111111111,
             "#46039f"
            ],
            [
             0.2222222222222222,
             "#7201a8"
            ],
            [
             0.3333333333333333,
             "#9c179e"
            ],
            [
             0.4444444444444444,
             "#bd3786"
            ],
            [
             0.5555555555555556,
             "#d8576b"
            ],
            [
             0.6666666666666666,
             "#ed7953"
            ],
            [
             0.7777777777777778,
             "#fb9f3a"
            ],
            [
             0.8888888888888888,
             "#fdca26"
            ],
            [
             1,
             "#f0f921"
            ]
           ],
           "sequentialminus": [
            [
             0,
             "#0d0887"
            ],
            [
             0.1111111111111111,
             "#46039f"
            ],
            [
             0.2222222222222222,
             "#7201a8"
            ],
            [
             0.3333333333333333,
             "#9c179e"
            ],
            [
             0.4444444444444444,
             "#bd3786"
            ],
            [
             0.5555555555555556,
             "#d8576b"
            ],
            [
             0.6666666666666666,
             "#ed7953"
            ],
            [
             0.7777777777777778,
             "#fb9f3a"
            ],
            [
             0.8888888888888888,
             "#fdca26"
            ],
            [
             1,
             "#f0f921"
            ]
           ]
          },
          "colorway": [
           "#636efa",
           "#EF553B",
           "#00cc96",
           "#ab63fa",
           "#FFA15A",
           "#19d3f3",
           "#FF6692",
           "#B6E880",
           "#FF97FF",
           "#FECB52"
          ],
          "font": {
           "color": "#2a3f5f"
          },
          "geo": {
           "bgcolor": "white",
           "lakecolor": "white",
           "landcolor": "#E5ECF6",
           "showlakes": true,
           "showland": true,
           "subunitcolor": "white"
          },
          "hoverlabel": {
           "align": "left"
          },
          "hovermode": "closest",
          "mapbox": {
           "style": "light"
          },
          "paper_bgcolor": "white",
          "plot_bgcolor": "#E5ECF6",
          "polar": {
           "angularaxis": {
            "gridcolor": "white",
            "linecolor": "white",
            "ticks": ""
           },
           "bgcolor": "#E5ECF6",
           "radialaxis": {
            "gridcolor": "white",
            "linecolor": "white",
            "ticks": ""
           }
          },
          "scene": {
           "xaxis": {
            "backgroundcolor": "#E5ECF6",
            "gridcolor": "white",
            "gridwidth": 2,
            "linecolor": "white",
            "showbackground": true,
            "ticks": "",
            "zerolinecolor": "white"
           },
           "yaxis": {
            "backgroundcolor": "#E5ECF6",
            "gridcolor": "white",
            "gridwidth": 2,
            "linecolor": "white",
            "showbackground": true,
            "ticks": "",
            "zerolinecolor": "white"
           },
           "zaxis": {
            "backgroundcolor": "#E5ECF6",
            "gridcolor": "white",
            "gridwidth": 2,
            "linecolor": "white",
            "showbackground": true,
            "ticks": "",
            "zerolinecolor": "white"
           }
          },
          "shapedefaults": {
           "line": {
            "color": "#2a3f5f"
           }
          },
          "ternary": {
           "aaxis": {
            "gridcolor": "white",
            "linecolor": "white",
            "ticks": ""
           },
           "baxis": {
            "gridcolor": "white",
            "linecolor": "white",
            "ticks": ""
           },
           "bgcolor": "#E5ECF6",
           "caxis": {
            "gridcolor": "white",
            "linecolor": "white",
            "ticks": ""
           }
          },
          "title": {
           "x": 0.05
          },
          "xaxis": {
           "automargin": true,
           "gridcolor": "white",
           "linecolor": "white",
           "ticks": "",
           "title": {
            "standoff": 15
           },
           "zerolinecolor": "white",
           "zerolinewidth": 2
          },
          "yaxis": {
           "automargin": true,
           "gridcolor": "white",
           "linecolor": "white",
           "ticks": "",
           "title": {
            "standoff": 15
           },
           "zerolinecolor": "white",
           "zerolinewidth": 2
          }
         }
        },
        "title": {
         "text": "Yearly Average Temperature"
        },
        "xaxis": {
         "anchor": "y",
         "domain": [
          0,
          1
         ],
         "title": {
          "text": "Year"
         }
        },
        "yaxis": {
         "anchor": "x",
         "domain": [
          0,
          1
         ],
         "title": {
          "text": "YearlyTemp"
         }
        }
       }
      }
     },
     "metadata": {},
     "output_type": "display_data"
    }
   ],
   "source": [
    "px.line(yearly, x = yearly.index, y = 'YearlyTemp', title = 'Yearly Average Temperature')"
   ]
  }
 ],
 "metadata": {
  "kernelspec": {
   "display_name": "Python 3.9.1 ('env': venv)",
   "language": "python",
   "name": "python3"
  },
  "language_info": {
   "codemirror_mode": {
    "name": "ipython",
    "version": 3
   },
   "file_extension": ".py",
   "mimetype": "text/x-python",
   "name": "python",
   "nbconvert_exporter": "python",
   "pygments_lexer": "ipython3",
   "version": "3.9.1"
  },
  "orig_nbformat": 4,
  "vscode": {
   "interpreter": {
    "hash": "9153ba32438b8fbe5d03bc946ae67f7f5f209561a8a5182ba7a63409fc60295f"
   }
  }
 },
 "nbformat": 4,
 "nbformat_minor": 2
}
